{
 "cells": [
  {
   "cell_type": "code",
   "execution_count": 0,
   "metadata": {
    "application/vnd.databricks.v1+cell": {
     "cellMetadata": {
      "byteLimit": 2048000,
      "rowLimit": 10000
     },
     "inputWidgets": {},
     "nuid": "eac95dd9-24c6-4b38-9f3f-3ebdcc25d886",
     "showTitle": false,
     "title": ""
    }
   },
   "outputs": [
    {
     "data": {
      "text/plain": [
       "True"
      ]
     },
     "execution_count": 14,
     "metadata": {},
     "output_type": "execute_result"
    }
   ],
   "source": [
    "\n",
    "storage_account_name = \"account_name\" \n",
    "container_name = \"countainer_name\"\n",
    "storage_account_key = \"account storage key\" \n",
    "mount_point = \"/mnt/countainer_name\"  # Desired mount point in Databricks\n",
    "\n",
    "extra_configs = {\n",
    "    f\"fs.azure.account.key.{storage_account_name}.blob.core.windows.net\": storage_account_key\n",
    "}\n",
    "\n",
    "# Mount the Blob Storage\n",
    "dbutils.fs.mount(\n",
    "    source = f\"wasbs://{container_name}@{storage_account_name}.blob.core.windows.net/\",\n",
    "    mount_point = mount_point,\n",
    "    extra_configs = extra_configs\n",
    ")\n"
   ]
  },
  {
   "cell_type": "code",
   "execution_count": 0,
   "metadata": {
    "application/vnd.databricks.v1+cell": {
     "cellMetadata": {
      "byteLimit": 2048000,
      "rowLimit": 10000
     },
     "inputWidgets": {},
     "nuid": "a8769a6e-8c55-4ed8-afa8-56f2195b5cf7",
     "showTitle": false,
     "title": ""
    }
   },
   "outputs": [
    {
     "data": {
      "text/html": [
       "<style scoped>\n",
       "  .table-result-container {\n",
       "    max-height: 300px;\n",
       "    overflow: auto;\n",
       "  }\n",
       "  table, th, td {\n",
       "    border: 1px solid black;\n",
       "    border-collapse: collapse;\n",
       "  }\n",
       "  th, td {\n",
       "    padding: 5px;\n",
       "  }\n",
       "  th {\n",
       "    text-align: left;\n",
       "  }\n",
       "</style><div class='table-result-container'><table class='table-result'><thead style='background-color: white'><tr><th>path</th><th>name</th><th>size</th><th>modificationTime</th></tr></thead><tbody><tr><td>dbfs:/mnt/parth1712/SalesLT/Address/</td><td>Address/</td><td>0</td><td>0</td></tr><tr><td>dbfs:/mnt/parth1712/SalesLT/Customer/</td><td>Customer/</td><td>0</td><td>0</td></tr><tr><td>dbfs:/mnt/parth1712/SalesLT/CustomerAddress/</td><td>CustomerAddress/</td><td>0</td><td>0</td></tr><tr><td>dbfs:/mnt/parth1712/SalesLT/Product/</td><td>Product/</td><td>0</td><td>0</td></tr><tr><td>dbfs:/mnt/parth1712/SalesLT/ProductCategory/</td><td>ProductCategory/</td><td>0</td><td>0</td></tr><tr><td>dbfs:/mnt/parth1712/SalesLT/ProductDescription/</td><td>ProductDescription/</td><td>0</td><td>0</td></tr><tr><td>dbfs:/mnt/parth1712/SalesLT/ProductModel/</td><td>ProductModel/</td><td>0</td><td>0</td></tr><tr><td>dbfs:/mnt/parth1712/SalesLT/ProductModelProductDescription/</td><td>ProductModelProductDescription/</td><td>0</td><td>0</td></tr><tr><td>dbfs:/mnt/parth1712/SalesLT/SalesOrderDetail/</td><td>SalesOrderDetail/</td><td>0</td><td>0</td></tr><tr><td>dbfs:/mnt/parth1712/SalesLT/SalesOrderHeader/</td><td>SalesOrderHeader/</td><td>0</td><td>0</td></tr></tbody></table></div>"
      ]
     },
     "metadata": {
      "application/vnd.databricks.v1+output": {
       "addedWidgets": {},
       "aggData": [],
       "aggError": "",
       "aggOverflow": false,
       "aggSchema": [],
       "aggSeriesLimitReached": false,
       "aggType": "",
       "arguments": {},
       "columnCustomDisplayInfos": {},
       "data": [
        [
         "dbfs:/mnt/parth1712/SalesLT/Address/",
         "Address/",
         0,
         0
        ],
        [
         "dbfs:/mnt/parth1712/SalesLT/Customer/",
         "Customer/",
         0,
         0
        ],
        [
         "dbfs:/mnt/parth1712/SalesLT/CustomerAddress/",
         "CustomerAddress/",
         0,
         0
        ],
        [
         "dbfs:/mnt/parth1712/SalesLT/Product/",
         "Product/",
         0,
         0
        ],
        [
         "dbfs:/mnt/parth1712/SalesLT/ProductCategory/",
         "ProductCategory/",
         0,
         0
        ],
        [
         "dbfs:/mnt/parth1712/SalesLT/ProductDescription/",
         "ProductDescription/",
         0,
         0
        ],
        [
         "dbfs:/mnt/parth1712/SalesLT/ProductModel/",
         "ProductModel/",
         0,
         0
        ],
        [
         "dbfs:/mnt/parth1712/SalesLT/ProductModelProductDescription/",
         "ProductModelProductDescription/",
         0,
         0
        ],
        [
         "dbfs:/mnt/parth1712/SalesLT/SalesOrderDetail/",
         "SalesOrderDetail/",
         0,
         0
        ],
        [
         "dbfs:/mnt/parth1712/SalesLT/SalesOrderHeader/",
         "SalesOrderHeader/",
         0,
         0
        ]
       ],
       "datasetInfos": [],
       "dbfsResultPath": null,
       "isJsonSchema": true,
       "metadata": {},
       "overflow": false,
       "plotOptions": {
        "customPlotOptions": {},
        "displayType": "table",
        "pivotAggregation": null,
        "pivotColumns": null,
        "xColumns": null,
        "yColumns": null
       },
       "removedWidgets": [],
       "schema": [
        {
         "metadata": "{}",
         "name": "path",
         "type": "\"string\""
        },
        {
         "metadata": "{}",
         "name": "name",
         "type": "\"string\""
        },
        {
         "metadata": "{}",
         "name": "size",
         "type": "\"long\""
        },
        {
         "metadata": "{}",
         "name": "modificationTime",
         "type": "\"long\""
        }
       ],
       "type": "table"
      }
     },
     "output_type": "display_data"
    }
   ],
   "source": [
    "display(dbutils.fs.ls(\"/mnt/parth1712/SalesLT\"))\n"
   ]
  }
 ],
 "metadata": {
  "application/vnd.databricks.v1+notebook": {
   "dashboards": [],
   "environmentMetadata": null,
   "language": "python",
   "notebookMetadata": {
    "pythonIndentUnit": 4
   },
   "notebookName": "mount_data",
   "widgets": {}
  },
  "language_info": {
   "name": "python"
  }
 },
 "nbformat": 4,
 "nbformat_minor": 0
}
